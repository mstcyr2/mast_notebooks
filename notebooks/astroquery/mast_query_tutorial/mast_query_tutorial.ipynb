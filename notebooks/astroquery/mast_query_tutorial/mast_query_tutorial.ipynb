{
 "cells": [
  {
   "cell_type": "markdown",
   "metadata": {},
   "source": [
    "<a id=\"top\"></a>\n",
    "# Searching MAST using astroquery.mast's Mast class.\n",
    "***\n",
    "## Learning Goals\n",
    "\n",
    "By the end of this tutorial, you will:\n",
    "\n",
    "- Recognize the types of services MAST Portal API provides through `astroquery.mast` and their required parameters.\n",
    "- Understand the benefits of `astroquery.mast`'s `Mast` class.\n",
    "- Make queries for different types of services using `astroquery.mast.Mast.mast_query`.\n"
   ]
  },
  {
   "cell_type": "markdown",
   "metadata": {
    "slideshow": {
     "slide_type": "slide"
    }
   },
   "source": [
    "## Introduction\n",
    "`astroquery.mast.Mast` is a class that allows programmatic access to the MAST Portal. It is similar to `astroquery.mast.Observations` in that the Observations class also allows direct programmatic access to the MAST Portal. The Mast class is still needed in addition to Observations because Observations provides simplified methods to query MAST's CAOM database, while Mast can be used to query other MAST databases including CAOM. Compared to Observations, using Mast, users can create more refined queries using science instrument keywords. \n",
    "\n",
    "Currently users who want to query for observations using the Mast class must compile their own JSON/dictionaries to feed into the MAST Portal API. To simplify queries, users should use the `mast_query` method under `astroquery.mast.Mast`. \n",
    "\n",
    "\n",
    "The workflow for this notebook consists of:\n",
    "* [Filtered Queries](#Filtered-Queries)\n",
    "    * [JWST Query](#JWST-Query)\n",
    "    * [TESS Query](#TESS-Query)\n",
    "* [Cone Search](#Cone-Search)\n",
    "* [Mast vs Observations](#Mast-vs-Observations)\n",
    "* [Additional Resources](#Additional-Resources)"
   ]
  },
  {
   "cell_type": "markdown",
   "metadata": {
    "slideshow": {
     "slide_type": "slide"
    }
   },
   "source": [
    "## Imports\n",
    "\n",
    "- *astropy.units* to handle unit conversion.\n",
    "- *astropy.time Time* to handle time format conversion."
   ]
  },
  {
   "cell_type": "code",
   "execution_count": null,
   "metadata": {
    "slideshow": {
     "slide_type": "fragment"
    }
   },
   "outputs": [],
   "source": [
    "import astropy.units as u\n",
    "\n",
    "from astropy.time import Time\n",
    "from astroquery.mast import Mast\n",
    "from astroquery.mast import Observations"
   ]
  },
  {
   "cell_type": "markdown",
   "metadata": {},
   "source": [
    "## Date Format Helper Method"
   ]
  },
  {
   "cell_type": "code",
   "execution_count": null,
   "metadata": {},
   "outputs": [],
   "source": [
    "def set_mjd_range(min, max):\n",
    "    '''Set time range in MJD given limits expressed as ISO-8601 dates'''\n",
    "    return {\n",
    "        \"min\": Time(min, format='isot').mjd, \n",
    "        \"max\": Time(max, format='isot').mjd\n",
    "        }"
   ]
  },
  {
   "cell_type": "markdown",
   "metadata": {},
   "source": [
    "***"
   ]
  },
  {
   "cell_type": "markdown",
   "metadata": {},
   "source": [
    "## Filtered Queries\n",
    "\n",
    "MAST's Filtered services use the parameters 'columns' and 'filters'. The 'columns' parameter is a required string that specifies the columns to be returned as a comma-separated list. The 'filters' parameter is a required list of filters to be applied. Using the `mast_query` method, users can list filters using keyword arguments and a list of values. The examples below will show the necessary format of these arguments for different services."
   ]
  },
  {
   "cell_type": "markdown",
   "metadata": {
    "slideshow": {
     "slide_type": "slide"
    }
   },
   "source": [
    "### JWST Query \n",
    "\n",
    "This is a query to view all targets of opportunity observed this year so far by JWST's Nirspec instrument. The table only shows the specified columns."
   ]
  },
  {
   "cell_type": "code",
   "execution_count": null,
   "metadata": {
    "slideshow": {
     "slide_type": "fragment"
    }
   },
   "outputs": [],
   "source": [
    "jwst_table = Mast.mast_query('Mast.Jwst.Filtered.Nirspec',\n",
    "                        columns = 'title, instrume, targname, date_obs_mjd',\n",
    "                        targoopp = ['T'],\n",
    "                        date_obs_mjd = [set_mjd_range('2023-01-01', '2023-08-01')])"
   ]
  },
  {
   "cell_type": "markdown",
   "metadata": {},
   "source": [
    "To verify that the query above returns the correct range of observations, convert the time format form mjd to iso for readability."
   ]
  },
  {
   "cell_type": "code",
   "execution_count": null,
   "metadata": {},
   "outputs": [],
   "source": [
    "jwst_table['date_obs_mjd'] = Time(jwst_table['date_obs_mjd'], format='mjd').iso"
   ]
  },
  {
   "cell_type": "code",
   "execution_count": null,
   "metadata": {},
   "outputs": [],
   "source": [
    "# Output the table.\n",
    "jwst_table"
   ]
  },
  {
   "cell_type": "markdown",
   "metadata": {},
   "source": [
    "### TESS Query\n",
    "\n",
    "TESS queries have 2 types of filtered services. There are [Mast.Catalogs.Filtered...](https://mast.stsci.edu/api/v0/_services.html#MastCatalogsFilteredTic) and [Mast.Catalogs.Filtered...Rows](https://mast.stsci.edu/api/v0/_services.html#MastCatalogsFilteredTicRows) services. To specify columns using the columns parameter in the `mast_query` method, 'rows' services must be used and the other must be used to count the number of returned methods. "
   ]
  },
  {
   "cell_type": "code",
   "execution_count": null,
   "metadata": {},
   "outputs": [],
   "source": [
    "# Example of a 'rows' service\n",
    "Mast.mast_query('Mast.Catalogs.Filtered.Tic.Position.Rows',\n",
    "           columns = 'id, objtype, lumclass, ra, dec, Teff, logg',\n",
    "           Teff = [{'min': 4250, 'max': 4500}], \n",
    "           logg = [{'min': 4.5, 'max': 5.0}],\n",
    "           ra = 210.8023,\n",
    "           dec = 54.349,\n",
    "           radius = .2)"
   ]
  },
  {
   "cell_type": "code",
   "execution_count": null,
   "metadata": {},
   "outputs": [],
   "source": [
    "# Example of a service without 'rows'\n",
    "Mast.mast_query('Mast.Catalogs.Filtered.Tic.Position',\n",
    "           columns = 'COUNT_BIG(*)',\n",
    "           Teff = [{'min': 4250, 'max': 4500}],\n",
    "           logg = [{'min': 4.5, 'max': 5.0}],\n",
    "           ra = 210.8023,\n",
    "           dec = 54.349,\n",
    "           radius = .2)"
   ]
  },
  {
   "cell_type": "markdown",
   "metadata": {},
   "source": [
    "## Cone Search\n",
    "\n",
    "The MAST Portal API's cone searches are not filtered using non-positional criteria. Most cone searches only accept the parameters 'ra', 'dec', and radius and return a table with all columns present. Users can limit the columns by assigning the table returned from the `mast_query` call to a variable and masking it with a list of column names."
   ]
  },
  {
   "cell_type": "code",
   "execution_count": null,
   "metadata": {
    "scrolled": true
   },
   "outputs": [],
   "source": [
    "gaia_table = Mast.mast_query('Mast.Catalogs.GaiaDR1.Cone',\n",
    "                        ra = 254.287,\n",
    "                        dec = -4.09933,\n",
    "                        radius = 0.02)"
   ]
  },
  {
   "cell_type": "code",
   "execution_count": null,
   "metadata": {},
   "outputs": [],
   "source": [
    "# Output the table\n",
    "gaia_table"
   ]
  },
  {
   "cell_type": "markdown",
   "metadata": {},
   "source": [
    "Even though the radius is specified in degrees, the resulting table lists it in arc minutes under the 'distance' column. To verify that the query above returns the correct observation, convert the distance values to degrees using the 'astropy.units' module and make sure they're less than the given radius."
   ]
  },
  {
   "cell_type": "code",
   "execution_count": null,
   "metadata": {},
   "outputs": [],
   "source": [
    "(max(gaia_table['distance']) * u.arcmin).to(u.deg)"
   ]
  },
  {
   "cell_type": "markdown",
   "metadata": {},
   "source": [
    "## Mast vs Observations\n",
    "\n",
    "`Mast.mast_query` is similar to `Observations.query_criteria`. Both methods use keyword arguments to query MAST databases. All `astroquery.mast.Observations` class queries go through the CAOM  MAST database. Although users can similarly query CAOM with `Mast.mast_query`, there are some important differences and limitations between the two methods. The two examples below detail those differences by performing the same query using both methods. "
   ]
  },
  {
   "cell_type": "code",
   "execution_count": null,
   "metadata": {},
   "outputs": [],
   "source": [
    "Observations.query_criteria(dataproduct_type=['image'],\n",
    "                            proposal_pi='Osten*',\n",
    "                            s_dec=[43.5, 45.5])"
   ]
  },
  {
   "cell_type": "markdown",
   "metadata": {},
   "source": [
    "`Observations.query_criteria` is a simpler method for CAOM queries. It also allows wildcarding whereas `Mast.mast_query` requires exact string. But, MastClass lets users use the full range of observation criteria in queries while `Observations.query_criteria` only has acces to 34."
   ]
  },
  {
   "cell_type": "code",
   "execution_count": null,
   "metadata": {},
   "outputs": [],
   "source": [
    "Mast.mast_query('Mast.Caom.Filtered',\n",
    "                dataproduct_type = ['image'],\n",
    "                proposal_pi = ['Osten, Rachel A.'],\n",
    "                s_dec = [{'min':43.5, 'max':45.5}])"
   ]
  },
  {
   "cell_type": "markdown",
   "metadata": {},
   "source": [
    "## Additional Resources\n",
    "\n",
    "- [MAST Services](https://mast.stsci.edu/api/v0/_services.html) \n",
    "- [astroquery.mast Documentation](https://astroquery.readthedocs.io/en/latest/mast/mast_mastquery.html)"
   ]
  },
  {
   "cell_type": "markdown",
   "metadata": {},
   "source": [
    "## Citations\n",
    "\n",
    "If you use `astropy` or `astroquery` for published research, please cite the\n",
    "authors. Follow these links for more information about citing `astropy` and\n",
    "`astroquery`:\n",
    "\n",
    "* [Citing `astropy`](https://www.astropy.org/acknowledging.html)\n",
    "* [Citing `astroquery`](https://github.com/astropy/astroquery/blob/main/astroquery/CITATION)\n",
    "\n"
   ]
  },
  {
   "cell_type": "markdown",
   "metadata": {
    "slideshow": {
     "slide_type": "slide"
    }
   },
   "source": [
    "## About this Notebook\n",
    "\n",
    "**Author(s):** Makayla St. Cyr <br>\n",
    "**Keyword(s):** Tutorial, MAST, TESS, JWST, astroquery, cone <br>\n",
    "**Last Updated:** Aug 2023 <br>\n",
    "***\n",
    "[Top of Page](#top)\n",
    "<img style=\"float: right;\" src=\"https://raw.githubusercontent.com/spacetelescope/notebooks/master/assets/stsci_pri_combo_mark_horizonal_white_bkgd.png\" alt=\"Space Telescope Logo\" width=\"200px\"/> "
   ]
  }
 ],
 "metadata": {
  "kernelspec": {
   "display_name": "Python 3 (ipykernel)",
   "language": "python",
   "name": "python3"
  },
  "language_info": {
   "codemirror_mode": {
    "name": "ipython",
    "version": 3
   },
   "file_extension": ".py",
   "mimetype": "text/x-python",
   "name": "python",
   "nbconvert_exporter": "python",
   "pygments_lexer": "ipython3",
   "version": "3.10.12"
  }
 },
 "nbformat": 4,
 "nbformat_minor": 4
}
